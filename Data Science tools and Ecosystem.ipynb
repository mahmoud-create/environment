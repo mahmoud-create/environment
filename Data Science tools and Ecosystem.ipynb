{
 "cells": [
  {
   "cell_type": "markdown",
   "id": "7f83af60-4df5-4083-919b-1cd85b3c9321",
   "metadata": {},
   "source": [
    "# Data Science Tools and Ecosystem"
   ]
  },
  {
   "cell_type": "markdown",
   "id": "858429e0-3435-44a6-a78c-adf43403aefb",
   "metadata": {},
   "source": [
    "In this notebook, Data Science tools and Ecosystems are summarized."
   ]
  },
  {
   "cell_type": "markdown",
   "id": "2591b54a-6a4c-43d6-9dcf-87569b5fbb8c",
   "metadata": {},
   "source": [
    "**Objectives**\n",
    "# bullets\n",
    "list of popular languages in data science\n",
    "- python\n",
    "- scala\n",
    "- SQL\n",
    "- R\n",
    "- Javascript\n"
   ]
  },
  {
   "cell_type": "markdown",
   "id": "5cc1649a-37d9-4709-8236-83a53a406d8a",
   "metadata": {},
   "source": [
    "some of the popular languages for data scientists are:\n",
    "\n",
    "# numbered list\n",
    "1 python\n",
    "2 R\n",
    "3 SQL"
   ]
  },
  {
   "cell_type": "markdown",
   "id": "c10b0da1-996a-40bd-8575-df4bb5686d30",
   "metadata": {},
   "source": [
    "some of the commonly used libraries used by data scientists include :\n",
    "# bullets\n",
    "- tensorflow\n",
    "- numpy\n",
    "- scipy\n"
   ]
  },
  {
   "cell_type": "markdown",
   "id": "5898bed3-828f-4175-a17e-dfb8362c2ef8",
   "metadata": {},
   "source": [
    "# Table of Data Science tools"
   ]
  },
  {
   "cell_type": "markdown",
   "id": "dbbcfc2a-2d77-4d37-9b2f-4c3cc91bcd5e",
   "metadata": {},
   "source": [
    "|Data Science Tools.||GitHub | |R Studio | | anaconda |"
   ]
  },
  {
   "cell_type": "markdown",
   "id": "3841c485-a123-46b2-8cd3-aab0563cae6f",
   "metadata": {},
   "source": [
    "### Below are are a few examples of evaluating arithmetic equation a in python"
   ]
  },
  {
   "cell_type": "markdown",
   "id": "a1de71b5-9505-4dd2-ac98-372c8e8dcc3f",
   "metadata": {},
   "source": [
    "the equation is $ f (x) = y^2 $"
   ]
  },
  {
   "cell_type": "markdown",
   "id": "722685d8-9ca5-4ad9-b31b-2ace2d3f0786",
   "metadata": {},
   "source": [
    "following is the equation  $$ E = M * c^2 $$"
   ]
  },
  {
   "cell_type": "markdown",
   "id": "7ac14641-ca87-42b6-8a96-1517617c26d5",
   "metadata": {},
   "source": [
    "this is an arthimetic to multiply and then add intergers "
   ]
  },
  {
   "cell_type": "code",
   "execution_count": 3,
   "id": "98c223fa-f248-4143-a024-df40f6263829",
   "metadata": {},
   "outputs": [
    {
     "data": {
      "text/plain": [
       "17"
      ]
     },
     "execution_count": 3,
     "metadata": {},
     "output_type": "execute_result"
    }
   ],
   "source": [
    "(3*4)+5"
   ]
  },
  {
   "cell_type": "markdown",
   "id": "57523743-04cf-4f50-93ae-70c1921a712e",
   "metadata": {},
   "source": [
    "This will convert 200minutes into hours by diving by 60"
   ]
  },
  {
   "cell_type": "code",
   "execution_count": 6,
   "id": "cf26eaba-bf50-4ff1-8379-21e706a29ca8",
   "metadata": {},
   "outputs": [
    {
     "data": {
      "text/plain": [
       "3.3333333333333335"
      ]
     },
     "execution_count": 6,
     "metadata": {},
     "output_type": "execute_result"
    }
   ],
   "source": [
    "(200/60)"
   ]
  },
  {
   "cell_type": "markdown",
   "id": "969f023f-d55f-411a-bbbf-6a0fae8bb6cd",
   "metadata": {},
   "source": [
    "## Author\n",
    "Wesonga Miraj"
   ]
  },
  {
   "cell_type": "code",
   "execution_count": null,
   "id": "939e3d51-7806-49dc-bd80-a3f5769379ac",
   "metadata": {},
   "outputs": [],
   "source": []
  }
 ],
 "metadata": {
  "kernelspec": {
   "display_name": "Python",
   "language": "python",
   "name": "conda-env-python-py"
  },
  "language_info": {
   "codemirror_mode": {
    "name": "ipython",
    "version": 3
   },
   "file_extension": ".py",
   "mimetype": "text/x-python",
   "name": "python",
   "nbconvert_exporter": "python",
   "pygments_lexer": "ipython3",
   "version": "3.7.12"
  }
 },
 "nbformat": 4,
 "nbformat_minor": 5
}
